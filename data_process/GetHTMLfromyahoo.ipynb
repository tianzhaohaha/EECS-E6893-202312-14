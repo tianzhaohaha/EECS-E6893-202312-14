{
 "cells": [
  {
   "cell_type": "code",
   "execution_count": 79,
   "id": "b1c2734c",
   "metadata": {
    "scrolled": true
   },
   "outputs": [],
   "source": [
    "from selenium import webdriver\n",
    "from selenium.webdriver.common.keys import Keys\n",
    "from bs4 import BeautifulSoup\n",
    "import time\n",
    "import pandas as pd\n",
    "import threading\n",
    "from selenium.webdriver.chrome.options import Options"
   ]
  },
  {
   "cell_type": "code",
   "execution_count": 127,
   "id": "18124087",
   "metadata": {},
   "outputs": [],
   "source": [
    "def get_sp500_tickers():\n",
    "    # 读取维基百科上的标普500成分股列表\n",
    "    url = 'https://en.wikipedia.org/wiki/List_of_S%26P_500_companies'\n",
    "    sp500_list = pd.read_html(url)[0]\n",
    "    tickers = sp500_list['Symbol'].tolist()\n",
    "    return tickers\n",
    "\n",
    "sp500_tickers = get_sp500_tickers()"
   ]
  },
  {
   "cell_type": "code",
   "execution_count": 75,
   "id": "e3d74a26",
   "metadata": {
    "scrolled": true
   },
   "outputs": [
    {
     "name": "stdout",
     "output_type": "stream",
     "text": [
      "0.0\n"
     ]
    },
    {
     "ename": "NoSuchWindowException",
     "evalue": "Message: no such window: target window already closed\nfrom unknown error: web view not found\n  (Session info: chrome=119.0.6045.124)\nStacktrace:\n\tGetHandleVerifier [0x00007FF78D0C82B2+55298]\n\t(No symbol) [0x00007FF78D035E02]\n\t(No symbol) [0x00007FF78CEF05AB]\n\t(No symbol) [0x00007FF78CED0038]\n\t(No symbol) [0x00007FF78CF56BC7]\n\t(No symbol) [0x00007FF78CF6A15F]\n\t(No symbol) [0x00007FF78CF51E83]\n\t(No symbol) [0x00007FF78CF2670A]\n\t(No symbol) [0x00007FF78CF27964]\n\tGetHandleVerifier [0x00007FF78D440AAB+3694587]\n\tGetHandleVerifier [0x00007FF78D49728E+4048862]\n\tGetHandleVerifier [0x00007FF78D48F173+4015811]\n\tGetHandleVerifier [0x00007FF78D1647D6+695590]\n\t(No symbol) [0x00007FF78D040CE8]\n\t(No symbol) [0x00007FF78D03CF34]\n\t(No symbol) [0x00007FF78D03D062]\n\t(No symbol) [0x00007FF78D02D3A3]\n\tBaseThreadInitThunk [0x00007FF92F58257D+29]\n\tRtlUserThreadStart [0x00007FF9302CAA78+40]\n",
     "output_type": "error",
     "traceback": [
      "\u001b[1;31m---------------------------------------------------------------------------\u001b[0m",
      "\u001b[1;31mNoSuchWindowException\u001b[0m                     Traceback (most recent call last)",
      "Cell \u001b[1;32mIn[75], line 18\u001b[0m\n\u001b[0;32m     14\u001b[0m max_scroll_attempts \u001b[38;5;241m=\u001b[39m \u001b[38;5;241m30\u001b[39m  \u001b[38;5;66;03m# 最大滚动次数，可以根据需要调整\u001b[39;00m\n\u001b[0;32m     16\u001b[0m \u001b[38;5;28;01mfor\u001b[39;00m _ \u001b[38;5;129;01min\u001b[39;00m \u001b[38;5;28mrange\u001b[39m(max_scroll_attempts):\n\u001b[0;32m     17\u001b[0m     \u001b[38;5;66;03m# 滚动一半屏幕高度\u001b[39;00m\n\u001b[1;32m---> 18\u001b[0m     \u001b[43mdriver\u001b[49m\u001b[38;5;241;43m.\u001b[39;49m\u001b[43mexecute_script\u001b[49m\u001b[43m(\u001b[49m\u001b[38;5;124;43m\"\u001b[39;49m\u001b[38;5;124;43mwindow.scrollBy(0, document.body.scrollHeight / 2);\u001b[39;49m\u001b[38;5;124;43m\"\u001b[39;49m\u001b[43m)\u001b[49m\n\u001b[0;32m     19\u001b[0m     time\u001b[38;5;241m.\u001b[39msleep(scroll_pause_time)\n\u001b[0;32m     21\u001b[0m \u001b[38;5;66;03m# 获取完整的页面HTML\u001b[39;00m\n",
      "File \u001b[1;32mS:\\anaconda\\envs\\gpt2\\lib\\site-packages\\selenium\\webdriver\\remote\\webdriver.py:407\u001b[0m, in \u001b[0;36mWebDriver.execute_script\u001b[1;34m(self, script, *args)\u001b[0m\n\u001b[0;32m    404\u001b[0m converted_args \u001b[38;5;241m=\u001b[39m \u001b[38;5;28mlist\u001b[39m(args)\n\u001b[0;32m    405\u001b[0m command \u001b[38;5;241m=\u001b[39m Command\u001b[38;5;241m.\u001b[39mW3C_EXECUTE_SCRIPT\n\u001b[1;32m--> 407\u001b[0m \u001b[38;5;28;01mreturn\u001b[39;00m \u001b[38;5;28;43mself\u001b[39;49m\u001b[38;5;241;43m.\u001b[39;49m\u001b[43mexecute\u001b[49m\u001b[43m(\u001b[49m\u001b[43mcommand\u001b[49m\u001b[43m,\u001b[49m\u001b[43m \u001b[49m\u001b[43m{\u001b[49m\u001b[38;5;124;43m\"\u001b[39;49m\u001b[38;5;124;43mscript\u001b[39;49m\u001b[38;5;124;43m\"\u001b[39;49m\u001b[43m:\u001b[49m\u001b[43m \u001b[49m\u001b[43mscript\u001b[49m\u001b[43m,\u001b[49m\u001b[43m \u001b[49m\u001b[38;5;124;43m\"\u001b[39;49m\u001b[38;5;124;43margs\u001b[39;49m\u001b[38;5;124;43m\"\u001b[39;49m\u001b[43m:\u001b[49m\u001b[43m \u001b[49m\u001b[43mconverted_args\u001b[49m\u001b[43m}\u001b[49m\u001b[43m)\u001b[49m[\u001b[38;5;124m\"\u001b[39m\u001b[38;5;124mvalue\u001b[39m\u001b[38;5;124m\"\u001b[39m]\n",
      "File \u001b[1;32mS:\\anaconda\\envs\\gpt2\\lib\\site-packages\\selenium\\webdriver\\remote\\webdriver.py:347\u001b[0m, in \u001b[0;36mWebDriver.execute\u001b[1;34m(self, driver_command, params)\u001b[0m\n\u001b[0;32m    345\u001b[0m response \u001b[38;5;241m=\u001b[39m \u001b[38;5;28mself\u001b[39m\u001b[38;5;241m.\u001b[39mcommand_executor\u001b[38;5;241m.\u001b[39mexecute(driver_command, params)\n\u001b[0;32m    346\u001b[0m \u001b[38;5;28;01mif\u001b[39;00m response:\n\u001b[1;32m--> 347\u001b[0m     \u001b[38;5;28;43mself\u001b[39;49m\u001b[38;5;241;43m.\u001b[39;49m\u001b[43merror_handler\u001b[49m\u001b[38;5;241;43m.\u001b[39;49m\u001b[43mcheck_response\u001b[49m\u001b[43m(\u001b[49m\u001b[43mresponse\u001b[49m\u001b[43m)\u001b[49m\n\u001b[0;32m    348\u001b[0m     response[\u001b[38;5;124m\"\u001b[39m\u001b[38;5;124mvalue\u001b[39m\u001b[38;5;124m\"\u001b[39m] \u001b[38;5;241m=\u001b[39m \u001b[38;5;28mself\u001b[39m\u001b[38;5;241m.\u001b[39m_unwrap_value(response\u001b[38;5;241m.\u001b[39mget(\u001b[38;5;124m\"\u001b[39m\u001b[38;5;124mvalue\u001b[39m\u001b[38;5;124m\"\u001b[39m, \u001b[38;5;28;01mNone\u001b[39;00m))\n\u001b[0;32m    349\u001b[0m     \u001b[38;5;28;01mreturn\u001b[39;00m response\n",
      "File \u001b[1;32mS:\\anaconda\\envs\\gpt2\\lib\\site-packages\\selenium\\webdriver\\remote\\errorhandler.py:229\u001b[0m, in \u001b[0;36mErrorHandler.check_response\u001b[1;34m(self, response)\u001b[0m\n\u001b[0;32m    227\u001b[0m         alert_text \u001b[38;5;241m=\u001b[39m value[\u001b[38;5;124m\"\u001b[39m\u001b[38;5;124malert\u001b[39m\u001b[38;5;124m\"\u001b[39m]\u001b[38;5;241m.\u001b[39mget(\u001b[38;5;124m\"\u001b[39m\u001b[38;5;124mtext\u001b[39m\u001b[38;5;124m\"\u001b[39m)\n\u001b[0;32m    228\u001b[0m     \u001b[38;5;28;01mraise\u001b[39;00m exception_class(message, screen, stacktrace, alert_text)  \u001b[38;5;66;03m# type: ignore[call-arg]  # mypy is not smart enough here\u001b[39;00m\n\u001b[1;32m--> 229\u001b[0m \u001b[38;5;28;01mraise\u001b[39;00m exception_class(message, screen, stacktrace)\n",
      "\u001b[1;31mNoSuchWindowException\u001b[0m: Message: no such window: target window already closed\nfrom unknown error: web view not found\n  (Session info: chrome=119.0.6045.124)\nStacktrace:\n\tGetHandleVerifier [0x00007FF78D0C82B2+55298]\n\t(No symbol) [0x00007FF78D035E02]\n\t(No symbol) [0x00007FF78CEF05AB]\n\t(No symbol) [0x00007FF78CED0038]\n\t(No symbol) [0x00007FF78CF56BC7]\n\t(No symbol) [0x00007FF78CF6A15F]\n\t(No symbol) [0x00007FF78CF51E83]\n\t(No symbol) [0x00007FF78CF2670A]\n\t(No symbol) [0x00007FF78CF27964]\n\tGetHandleVerifier [0x00007FF78D440AAB+3694587]\n\tGetHandleVerifier [0x00007FF78D49728E+4048862]\n\tGetHandleVerifier [0x00007FF78D48F173+4015811]\n\tGetHandleVerifier [0x00007FF78D1647D6+695590]\n\t(No symbol) [0x00007FF78D040CE8]\n\t(No symbol) [0x00007FF78D03CF34]\n\t(No symbol) [0x00007FF78D03D062]\n\t(No symbol) [0x00007FF78D02D3A3]\n\tBaseThreadInitThunk [0x00007FF92F58257D+29]\n\tRtlUserThreadStart [0x00007FF9302CAA78+40]\n"
     ]
    }
   ],
   "source": [
    "\"\"\"\n",
    "dic = {}\n",
    "for i in range(len(sp500_tickers)):\n",
    "    print(i/len(sp500_tickers))\n",
    "    if i%50==0:\n",
    "        time.sleep(20)\n",
    "    stock_code = sp500_tickers[i]\n",
    "    url = \"https://finance.yahoo.com/quote/\"+stock_code+\"/news\"\n",
    "    # 设置Selenium WebDriver\n",
    "    driver = webdriver.Chrome()\n",
    "    driver.get(url)\n",
    "\n",
    "    time.sleep(3)  # 初始加载等待时间\n",
    "    scroll_pause_time = 1  # 每次滚动后的等待时间\n",
    "    max_scroll_attempts = 30  # 最大滚动次数，可以根据需要调整\n",
    "\n",
    "    for _ in range(max_scroll_attempts):\n",
    "        # 滚动一半屏幕高度\n",
    "        driver.execute_script(\"window.scrollBy(0, document.body.scrollHeight / 2);\")\n",
    "        time.sleep(scroll_pause_time)\n",
    "\n",
    "    # 获取完整的页面HTML\n",
    "    html = driver.page_source\n",
    "    driver.quit()\n",
    "\n",
    "    # 使用BeautifulSoup解析HTML\n",
    "    soup = BeautifulSoup(html, 'html.parser')\n",
    "\n",
    "    # 提取新闻标题\n",
    "    news_titles = []\n",
    "    for tag in soup.find_all(\"a\", class_=\"js-content-viewer\"):\n",
    "        if \"mega-item-header-link\" in tag.get(\"class\", []) and \"Fw(b)\" in tag.get(\"class\", []) and \"Fz(18px)\" in tag.get(\"class\", []):\n",
    "            title = tag.get_text(strip=True)\n",
    "            if title:\n",
    "                news_titles.append(title)\n",
    "    dic[stock_code] = news_titles\n",
    "\"\"\""
   ]
  },
  {
   "cell_type": "code",
   "execution_count": 128,
   "id": "90c54df5",
   "metadata": {},
   "outputs": [],
   "source": [
    "dic = {}\n",
    "with open('./data.json', 'r') as f:\n",
    "    dic = json.load(f)"
   ]
  },
  {
   "cell_type": "code",
   "execution_count": 129,
   "id": "47a0ce02",
   "metadata": {},
   "outputs": [],
   "source": [
    "remain = []\n",
    "for item in sp500_tickers:\n",
    "    if item not in dic.keys():\n",
    "        remain.append(item)\n",
    "    elif dic[item]==[]:\n",
    "        remain.append(item)"
   ]
  },
  {
   "cell_type": "code",
   "execution_count": 131,
   "id": "86e691a0",
   "metadata": {},
   "outputs": [
    {
     "data": {
      "text/plain": [
       "['BRK.B', 'BF.B', 'WTW']"
      ]
     },
     "execution_count": 131,
     "metadata": {},
     "output_type": "execute_result"
    }
   ],
   "source": [
    "remain"
   ]
  },
  {
   "cell_type": "code",
   "execution_count": 132,
   "id": "ce890ae7",
   "metadata": {},
   "outputs": [],
   "source": [
    "sp500_tickers = remain"
   ]
  },
  {
   "cell_type": "code",
   "execution_count": 133,
   "id": "acb84266",
   "metadata": {
    "scrolled": true
   },
   "outputs": [],
   "source": [
    "\n",
    "# 全局字典用于存储结果\n",
    "news_dict = {}\n",
    "\n",
    "def fetch_news(stock_code):\n",
    "    try:\n",
    "        url = \"https://finance.yahoo.com/quote/\" + stock_code + \"/news\"\n",
    "        driver = webdriver.Chrome()\n",
    "        driver.get(url)\n",
    "\n",
    "        time.sleep(3)  # 初始加载等待时间\n",
    "        scroll_pause_time = 1  # 每次滚动后的等待时间\n",
    "        max_scroll_attempts = 30  # 最大滚动次数\n",
    "\n",
    "        for _ in range(max_scroll_attempts):\n",
    "            driver.execute_script(\"window.scrollBy(0, document.body.scrollHeight / 2);\")\n",
    "            time.sleep(scroll_pause_time)\n",
    "\n",
    "        html = driver.page_source\n",
    "        driver.quit()\n",
    "\n",
    "        soup = BeautifulSoup(html, 'html.parser')\n",
    "        news_titles = []\n",
    "        for tag in soup.find_all(\"a\", class_=\"js-content-viewer\"):\n",
    "            if \"mega-item-header-link\" in tag.get(\"class\", []) and \"Fw(b)\" in tag.get(\"class\", []) and \"Fz(18px)\" in tag.get(\"class\", []):\n",
    "                title = tag.get_text(strip=True)\n",
    "                if title:\n",
    "                    news_titles.append(title)\n",
    "        news_dict[stock_code] = news_titles\n",
    "    except Exception as e:\n",
    "        print(f\"Error fetching data for {stock_code}: {e}\")\n",
    "\n",
    "def start_thread(ticker):\n",
    "    thread = threading.Thread(target=fetch_news, args=(ticker,))\n",
    "    thread.start()\n",
    "    return thread\n",
    "\n",
    "# 创建并启动线程，同时保持线程数量不超过20\n",
    "max_threads = 10\n",
    "active_threads = []\n",
    "\n",
    "for i in range(len(sp500_tickers)):\n",
    "    ticker = sp500_tickers[i]\n",
    "    if len(active_threads) >= max_threads:\n",
    "        # 等待任一线程结束\n",
    "        active_threads[0].join()\n",
    "        active_threads.pop(0)\n",
    "\n",
    "    new_thread = start_thread(ticker)\n",
    "    active_threads.append(new_thread)\n",
    "\n",
    "    # 每50个股票后休息20秒\n",
    "    if (i % 50)==0 and i!=0:\n",
    "        time.sleep(20)\n",
    "\n",
    "# 等待所有线程完成\n",
    "for thread in active_threads:\n",
    "    thread.join()\n"
   ]
  },
  {
   "cell_type": "code",
   "execution_count": 134,
   "id": "9256d5da",
   "metadata": {},
   "outputs": [],
   "source": [
    "for item in dic.keys():\n",
    "    if item not in news_dict.keys():\n",
    "        news_dict[item] = dic[item]"
   ]
  },
  {
   "cell_type": "code",
   "execution_count": 135,
   "id": "6d78de8f",
   "metadata": {},
   "outputs": [
    {
     "data": {
      "text/plain": [
       "503"
      ]
     },
     "execution_count": 135,
     "metadata": {},
     "output_type": "execute_result"
    }
   ],
   "source": [
    "len(news_dict)"
   ]
  },
  {
   "cell_type": "code",
   "execution_count": 136,
   "id": "ebeba813",
   "metadata": {},
   "outputs": [
    {
     "data": {
      "text/plain": [
       "['BF.B', 'BRK.B']"
      ]
     },
     "execution_count": 136,
     "metadata": {},
     "output_type": "execute_result"
    }
   ],
   "source": [
    "rm = []\n",
    "for item in news_dict.keys():\n",
    "    if news_dict[item]==[]:\n",
    "        rm.append(item)\n",
    "rm"
   ]
  },
  {
   "cell_type": "code",
   "execution_count": 137,
   "id": "fc5f2704",
   "metadata": {},
   "outputs": [],
   "source": [
    "# 写入 JSON 到文件\n",
    "with open('./data.json', 'w') as f:\n",
    "    json.dump(news_dict, f)"
   ]
  }
 ],
 "metadata": {
  "kernelspec": {
   "display_name": "gpt2",
   "language": "python",
   "name": "gpt2"
  },
  "language_info": {
   "codemirror_mode": {
    "name": "ipython",
    "version": 3
   },
   "file_extension": ".py",
   "mimetype": "text/x-python",
   "name": "python",
   "nbconvert_exporter": "python",
   "pygments_lexer": "ipython3",
   "version": "3.8.18"
  }
 },
 "nbformat": 4,
 "nbformat_minor": 5
}
